{
 "cells": [
  {
   "cell_type": "code",
   "execution_count": null,
   "metadata": {},
   "outputs": [
    {
     "name": "stdout",
     "output_type": "stream",
     "text": [
      "{'type': 'player', 'id': 'account.9a8632acb84a472c83499b1698b8938f', 'name': 'PorcoAranhawew', 'stats': None, 'titleId': 'pubg', 'shardId': 'steam', 'patchVersion': '', 'banType': 'Innocent', 'clanId': 'clan.645539fc4fe241f1952ad6074d197cb1'}\n"
     ]
    }
   ],
   "source": [
    "import json\n",
    "from datetime import timedelta\n",
    "# Carregar o JSON\n",
    "with open(r'raw\\players\\account.9a8632acb84a472c83499b1698b8938f.json', 'r', encoding='utf-8') as file:\n",
    "    data = json.load(file)\n",
    "\n",
    "# Lista para armazenar os dados\n",
    "players_list = []\n",
    "\n",
    "# Percorrendo os jogadores\n",
    "for player in data.get(\"data\", []):\n",
    "    player_info = {\n",
    "        \"type\": player.get(\"type\", \"N/A\"),\n",
    "        \"id\": player.get(\"id\", \"N/A\"),\n",
    "        **player.get(\"attributes\", {})  # Adiciona os atributos do jogador\n",
    "    }\n",
    "    players_list.append(player_info)\n",
    "\n",
    "# Exibindo a lista\n",
    "for player in players_list:\n",
    "    print(player)\n"
   ]
  },
  {
   "cell_type": "code",
   "execution_count": 4,
   "metadata": {},
   "outputs": [
    {
     "name": "stdout",
     "output_type": "stream",
     "text": [
      "Dados inseridos com sucesso!\n"
     ]
    }
   ],
   "source": [
    "import sqlite3\n",
    "\n",
    "conn = sqlite3.connect(\"pubg.db\")\n",
    "#conn.close()\n",
    "cursor = conn.cursor()\n",
    "\n",
    "for player in players_list:\n",
    "    cursor.execute(\"\"\"\n",
    "    INSERT INTO dim_player (grid, type, id, name, stats, titleId, banType, clanId, updated, patchVersion, shardId)\n",
    "    VALUES (NULL, ?, ?, ?, ?, ?, ?, ?, ?, ?, ?)\n",
    "    ON CONFLICT(id) DO UPDATE SET \n",
    "        type = excluded.type,\n",
    "        name = excluded.name,\n",
    "        stats = excluded.stats,\n",
    "        titleId = excluded.titleId,\n",
    "        banType = excluded.banType,\n",
    "        clanId = excluded.clanId,\n",
    "        updated = current_date,\n",
    "        patchVersion = excluded.patchVersion,\n",
    "        shardId = excluded.shardId;\n",
    "    \"\"\", (\n",
    "        player.get(\"type\", \"\"),\n",
    "        player.get(\"id\", \"\"),\n",
    "        player.get(\"name\", \"\"),\n",
    "        player.get(\"stats\", \"\"),\n",
    "        player.get(\"titleId\", \"\"),\n",
    "        player.get(\"banType\", \"\"),\n",
    "        player.get(\"clanId\", \"\"),\n",
    "        player.get(\"updated\", \"\"),\n",
    "        player.get(\"patchVersion\", \"\"),\n",
    "        player.get(\"shardId\", \"\")\n",
    "    ))\n",
    "\n",
    "# Salvar e fechar conexão\n",
    "conn.commit()\n",
    "conn.close()\n",
    "\n",
    "print(\"Dados inseridos com sucesso!\")\n"
   ]
  },
  {
   "cell_type": "code",
   "execution_count": null,
   "metadata": {},
   "outputs": [],
   "source": []
  }
 ],
 "metadata": {
  "kernelspec": {
   "display_name": "venv",
   "language": "python",
   "name": "python3"
  },
  "language_info": {
   "codemirror_mode": {
    "name": "ipython",
    "version": 3
   },
   "file_extension": ".py",
   "mimetype": "text/x-python",
   "name": "python",
   "nbconvert_exporter": "python",
   "pygments_lexer": "ipython3",
   "version": "3.13.1"
  }
 },
 "nbformat": 4,
 "nbformat_minor": 2
}
